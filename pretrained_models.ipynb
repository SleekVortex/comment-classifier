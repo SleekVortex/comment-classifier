{
 "cells": [
  {
   "cell_type": "markdown",
   "metadata": {},
   "source": [
    "## 1. Импорт зависимостей"
   ]
  },
  {
   "cell_type": "code",
   "execution_count": null,
   "metadata": {},
   "outputs": [],
   "source": [
    "import os\n",
    "import time\n",
    "import torch\n",
    "import random\n",
    "import datetime\n",
    "import numpy as np\n",
    "import numpy as np\n",
    "import pandas as pd\n",
    "import seaborn as sns\n",
    "import matplotlib.pyplot as plt\n",
    "\n",
    "from sklearn.metrics import (\n",
    "    accuracy_score, precision_score,\n",
    "    recall_score, f1_score\n",
    "    )\n",
    "from torch.utils.data import (\n",
    "    TensorDataset, random_split, DataLoader,\n",
    "    RandomSampler, SequentialSampler\n",
    "    )\n",
    "from transformers import(\n",
    "    BertForSequenceClassification, AdamW,\n",
    "    BertTokenizer, AutoTokenizer,\n",
    "    get_linear_schedule_with_warmup\n",
    "    )"
   ]
  },
  {
   "cell_type": "markdown",
   "metadata": {},
   "source": [
    "Проверим доступность GPU"
   ]
  },
  {
   "cell_type": "code",
   "execution_count": null,
   "metadata": {},
   "outputs": [
    {
     "name": "stdout",
     "output_type": "stream",
     "text": [
      "There are 1 GPU(s) available.\n",
      "We will use the GPU: Tesla T4\n"
     ]
    }
   ],
   "source": [
    "if torch.cuda.is_available():\n",
    "    device = torch.device(\"cuda\")\n",
    "    print('There are %d GPU(s) available.' % torch.cuda.device_count())\n",
    "    print('We will use the GPU:', torch.cuda.get_device_name(0))\n",
    "\n",
    "else:\n",
    "    print('No GPU available, using the CPU instead.')\n",
    "    device = torch.device(\"cpu\")"
   ]
  },
  {
   "cell_type": "markdown",
   "metadata": {},
   "source": [
    "## 2. Загрузка данных"
   ]
  },
  {
   "cell_type": "markdown",
   "metadata": {},
   "source": [
    "Данные, в отличие от других файлов используются в виде тренировочной и тестовой выборки, чтобы не хранить одновременно лишние данные в памяти.\n",
    "\n",
    "Данные были разделены на train и test с помощью sklearn train_test_split с random_state=42."
   ]
  },
  {
   "cell_type": "code",
   "execution_count": null,
   "metadata": {},
   "outputs": [
    {
     "name": "stdout",
     "output_type": "stream",
     "text": [
      "Number of training sentences: 37,020\n",
      "\n"
     ]
    },
    {
     "data": {
      "application/vnd.google.colaboratory.intrinsic+json": {
       "summary": "{\n  \"name\": \"df\",\n  \"rows\": 10,\n  \"fields\": [\n    {\n      \"column\": \"text\",\n      \"properties\": {\n        \"dtype\": \"string\",\n        \"num_unique_values\": 10,\n        \"samples\": [\n          \"\\u041b\\u0443\\u0447\\u0448\\u0438\\u0439 \\u043f\\u0440\\u0435\\u043f\\u043e\\u0434\\u0430\\u0432\\u0430\\u0442\\u0435\\u043b\\u044c \\u043f\\u043e \\u044d\\u043b\\u0435\\u043a\\u0442\\u0440\\u043e\\u0442\\u0435\\u0445\\u043d\\u0438\\u043a\\u0435!!\",\n          \" \\u0424\\u0442\\u0438\\u0437\\u0438\\u0430\\u0442\\u0440\\u044b \\u043f\\u043e \\u041e\\u041c\\u0421 \\u0438 \\u043d\\u0435 \\u043f\\u0440\\u0438\\u043d\\u0438\\u043c\\u0430\\u044e\\u0442. \\u0415\\u0441\\u043b\\u0438 \\u0436\\u0438\\u0432\\u0435\\u0442\\u0435 \\u0430 \\u0418\\u0440\\u043a\\u0443\\u0442\\u0441\\u043a\\u0435 - \\u0418\\u0440\\u043a\\u0443\\u0442\\u0441\\u043a\\u0438\\u0439 \\u0444\\u0438\\u043b\\u0438\\u0430\\u043b 1 \\u0418\\u041e\\u041a\\u0422\\u0411. \\u041f\\u0440\\u0438\\u0435\\u043c \\u0438\\u0434\\u0435\\u0442 \\u0442\\u043e\\u0436\\u0435 \\u043f\\u043e \\u0443\\u0447\\u0430\\u0441\\u0442\\u043a\\u0430\\u043c \\u0438 \\u0440\\u0430\\u0439\\u043e\\u043d\\u0430\\u043c. \\u0415\\u0441\\u043b\\u0438 \\u0445\\u043e\\u0442\\u0438\\u0442\\u0435 \\u0443\\u0442\\u043e\\u0447\\u043d\\u0438\\u0442\\u044c - \\u043f\\u043e\\u0437\\u0432\\u043e\\u043d\\u0438\\u0442\\u0435 \\u0432 \\u0440\\u0435\\u0433\\u0438\\u0441\\u0442\\u0440\\u0430\\u0442\\u0443\\u0440\\u0443. \\u0410 \\u0442\\u0443\\u0431\\u0435\\u0440\\u043a\\u0443\\u043b\\u0435\\u0437 \\u043b\\u0435\\u0447\\u0438\\u0442\\u0441\\u044f, \\u0434\\u043e\\u043b\\u0433\\u043e, \\u043d\\u043e \\u0443\\u0441\\u043f\\u0435\\u0448\\u043d\\u043e, \\u0435\\u0441\\u043b\\u0438 \\u0434\\u0435\\u0439\\u0441\\u0442\\u0432\\u0438\\u0442\\u0435\\u043b\\u044c\\u043d\\u043e \\u0432\\u043e\\u0432\\u0440\\u0435\\u043c\\u044f \\u043d\\u0430\\u0447\\u0430\\u0442\\u044c \\u043b\\u0435\\u0447\\u0435\\u043d\\u0438\\u0435.\",\n          \"\\u0430 \\u0441 \\u0447\\u0435\\u0433\\u043e \\u0442\\u044b \\u0440\\u0435\\u0448\\u0438\\u043b, \\u0447\\u0442\\u043e \\u043e\\u0442\\u043f\\u0440\\u0430\\u0432\\u044f\\u0442 \\u043d\\u0430 \\u043a\\u043e\\u043c\\u0438\\u0441\\u0441\\u0438\\u044e? \\u042f \\u043f\\u0435\\u0440\\u0435\\u0441\\u0434\\u0430\\u0432\\u0430\\u043b \\u043e\\u0441\\u0435\\u043d\\u044c\\u044e 4\\u0433\\u043e \\u043a\\u0443\\u0440\\u0441\\u0430, \\u043b\\u0435\\u0442\\u043d\\u044e\\u044e \\u0441\\u0435\\u0441\\u0441\\u0438 \\u0437\\u0430 3\\u0439. \\u0418 \\u043d\\u0438 \\u043e \\u043a\\u0430\\u043a\\u043e\\u0439 \\u043a\\u043e\\u043c\\u0438\\u0441\\u0441\\u0438\\u0438 \\u0440\\u0435\\u0447\\u0438 \\u043d\\u0435\\u0431\\u044b\\u043b\\u043e)) \\u0422\\u0430\\u043a \\u0447\\u0442\\u043e \\u0437\\u0430\\u0431\\u0435\\u0439 \\u0438 \\u043d\\u0435 \\u043f\\u0430\\u0440\\u044c\\u0441\\u044f\"\n        ],\n        \"semantic_type\": \"\",\n        \"description\": \"\"\n      }\n    },\n    {\n      \"column\": \"relevant\",\n      \"properties\": {\n        \"dtype\": \"number\",\n        \"std\": 0,\n        \"min\": 0,\n        \"max\": 1,\n        \"num_unique_values\": 2,\n        \"samples\": [\n          1,\n          0\n        ],\n        \"semantic_type\": \"\",\n        \"description\": \"\"\n      }\n    }\n  ]\n}",
       "type": "dataframe"
      },
      "text/html": [
       "\n",
       "  <div id=\"df-75d843e1-aa4d-47d8-a7d2-97b0018808df\" class=\"colab-df-container\">\n",
       "    <div>\n",
       "<style scoped>\n",
       "    .dataframe tbody tr th:only-of-type {\n",
       "        vertical-align: middle;\n",
       "    }\n",
       "\n",
       "    .dataframe tbody tr th {\n",
       "        vertical-align: top;\n",
       "    }\n",
       "\n",
       "    .dataframe thead th {\n",
       "        text-align: right;\n",
       "    }\n",
       "</style>\n",
       "<table border=\"1\" class=\"dataframe\">\n",
       "  <thead>\n",
       "    <tr style=\"text-align: right;\">\n",
       "      <th></th>\n",
       "      <th>text</th>\n",
       "      <th>relevant</th>\n",
       "    </tr>\n",
       "  </thead>\n",
       "  <tbody>\n",
       "    <tr>\n",
       "      <th>15986</th>\n",
       "      <td>\\n спасибо что напомнили что нас ебут 3 сема п...</td>\n",
       "      <td>0</td>\n",
       "    </tr>\n",
       "    <tr>\n",
       "      <th>36128</th>\n",
       "      <td>Фтизиатры по ОМС и не принимают. Если живете ...</td>\n",
       "      <td>0</td>\n",
       "    </tr>\n",
       "    <tr>\n",
       "      <th>9444</th>\n",
       "      <td>этот символ повторяет расцветку медали \"За о...</td>\n",
       "      <td>0</td>\n",
       "    </tr>\n",
       "    <tr>\n",
       "      <th>30224</th>\n",
       "      <td>Я хоть не с Вами, пока, но у меня в колледже б...</td>\n",
       "      <td>1</td>\n",
       "    </tr>\n",
       "    <tr>\n",
       "      <th>16596</th>\n",
       "      <td>Ждем новых студентов 🦉</td>\n",
       "      <td>0</td>\n",
       "    </tr>\n",
       "    <tr>\n",
       "      <th>35800</th>\n",
       "      <td>а с чего ты решил, что отправят на комиссию? Я...</td>\n",
       "      <td>1</td>\n",
       "    </tr>\n",
       "    <tr>\n",
       "      <th>3803</th>\n",
       "      <td>Смотря что понимать под условиями. Общежитие н...</td>\n",
       "      <td>1</td>\n",
       "    </tr>\n",
       "    <tr>\n",
       "      <th>2982</th>\n",
       "      <td>Кажется ни одно мероприятие нашего университет...</td>\n",
       "      <td>1</td>\n",
       "    </tr>\n",
       "    <tr>\n",
       "      <th>26007</th>\n",
       "      <td>Лучший преподаватель по электротехнике!!</td>\n",
       "      <td>1</td>\n",
       "    </tr>\n",
       "    <tr>\n",
       "      <th>23484</th>\n",
       "      <td>\\n на нем можно писать курсовую и диплом в люб...</td>\n",
       "      <td>0</td>\n",
       "    </tr>\n",
       "  </tbody>\n",
       "</table>\n",
       "</div>\n",
       "    <div class=\"colab-df-buttons\">\n",
       "\n",
       "  <div class=\"colab-df-container\">\n",
       "    <button class=\"colab-df-convert\" onclick=\"convertToInteractive('df-75d843e1-aa4d-47d8-a7d2-97b0018808df')\"\n",
       "            title=\"Convert this dataframe to an interactive table.\"\n",
       "            style=\"display:none;\">\n",
       "\n",
       "  <svg xmlns=\"http://www.w3.org/2000/svg\" height=\"24px\" viewBox=\"0 -960 960 960\">\n",
       "    <path d=\"M120-120v-720h720v720H120Zm60-500h600v-160H180v160Zm220 220h160v-160H400v160Zm0 220h160v-160H400v160ZM180-400h160v-160H180v160Zm440 0h160v-160H620v160ZM180-180h160v-160H180v160Zm440 0h160v-160H620v160Z\"/>\n",
       "  </svg>\n",
       "    </button>\n",
       "\n",
       "  <style>\n",
       "    .colab-df-container {\n",
       "      display:flex;\n",
       "      gap: 12px;\n",
       "    }\n",
       "\n",
       "    .colab-df-convert {\n",
       "      background-color: #E8F0FE;\n",
       "      border: none;\n",
       "      border-radius: 50%;\n",
       "      cursor: pointer;\n",
       "      display: none;\n",
       "      fill: #1967D2;\n",
       "      height: 32px;\n",
       "      padding: 0 0 0 0;\n",
       "      width: 32px;\n",
       "    }\n",
       "\n",
       "    .colab-df-convert:hover {\n",
       "      background-color: #E2EBFA;\n",
       "      box-shadow: 0px 1px 2px rgba(60, 64, 67, 0.3), 0px 1px 3px 1px rgba(60, 64, 67, 0.15);\n",
       "      fill: #174EA6;\n",
       "    }\n",
       "\n",
       "    .colab-df-buttons div {\n",
       "      margin-bottom: 4px;\n",
       "    }\n",
       "\n",
       "    [theme=dark] .colab-df-convert {\n",
       "      background-color: #3B4455;\n",
       "      fill: #D2E3FC;\n",
       "    }\n",
       "\n",
       "    [theme=dark] .colab-df-convert:hover {\n",
       "      background-color: #434B5C;\n",
       "      box-shadow: 0px 1px 3px 1px rgba(0, 0, 0, 0.15);\n",
       "      filter: drop-shadow(0px 1px 2px rgba(0, 0, 0, 0.3));\n",
       "      fill: #FFFFFF;\n",
       "    }\n",
       "  </style>\n",
       "\n",
       "    <script>\n",
       "      const buttonEl =\n",
       "        document.querySelector('#df-75d843e1-aa4d-47d8-a7d2-97b0018808df button.colab-df-convert');\n",
       "      buttonEl.style.display =\n",
       "        google.colab.kernel.accessAllowed ? 'block' : 'none';\n",
       "\n",
       "      async function convertToInteractive(key) {\n",
       "        const element = document.querySelector('#df-75d843e1-aa4d-47d8-a7d2-97b0018808df');\n",
       "        const dataTable =\n",
       "          await google.colab.kernel.invokeFunction('convertToInteractive',\n",
       "                                                    [key], {});\n",
       "        if (!dataTable) return;\n",
       "\n",
       "        const docLinkHtml = 'Like what you see? Visit the ' +\n",
       "          '<a target=\"_blank\" href=https://colab.research.google.com/notebooks/data_table.ipynb>data table notebook</a>'\n",
       "          + ' to learn more about interactive tables.';\n",
       "        element.innerHTML = '';\n",
       "        dataTable['output_type'] = 'display_data';\n",
       "        await google.colab.output.renderOutput(dataTable, element);\n",
       "        const docLink = document.createElement('div');\n",
       "        docLink.innerHTML = docLinkHtml;\n",
       "        element.appendChild(docLink);\n",
       "      }\n",
       "    </script>\n",
       "  </div>\n",
       "\n",
       "\n",
       "<div id=\"df-e3028b3e-9980-4cc0-8da0-abfd75ca8bba\">\n",
       "  <button class=\"colab-df-quickchart\" onclick=\"quickchart('df-e3028b3e-9980-4cc0-8da0-abfd75ca8bba')\"\n",
       "            title=\"Suggest charts\"\n",
       "            style=\"display:none;\">\n",
       "\n",
       "<svg xmlns=\"http://www.w3.org/2000/svg\" height=\"24px\"viewBox=\"0 0 24 24\"\n",
       "     width=\"24px\">\n",
       "    <g>\n",
       "        <path d=\"M19 3H5c-1.1 0-2 .9-2 2v14c0 1.1.9 2 2 2h14c1.1 0 2-.9 2-2V5c0-1.1-.9-2-2-2zM9 17H7v-7h2v7zm4 0h-2V7h2v10zm4 0h-2v-4h2v4z\"/>\n",
       "    </g>\n",
       "</svg>\n",
       "  </button>\n",
       "\n",
       "<style>\n",
       "  .colab-df-quickchart {\n",
       "      --bg-color: #E8F0FE;\n",
       "      --fill-color: #1967D2;\n",
       "      --hover-bg-color: #E2EBFA;\n",
       "      --hover-fill-color: #174EA6;\n",
       "      --disabled-fill-color: #AAA;\n",
       "      --disabled-bg-color: #DDD;\n",
       "  }\n",
       "\n",
       "  [theme=dark] .colab-df-quickchart {\n",
       "      --bg-color: #3B4455;\n",
       "      --fill-color: #D2E3FC;\n",
       "      --hover-bg-color: #434B5C;\n",
       "      --hover-fill-color: #FFFFFF;\n",
       "      --disabled-bg-color: #3B4455;\n",
       "      --disabled-fill-color: #666;\n",
       "  }\n",
       "\n",
       "  .colab-df-quickchart {\n",
       "    background-color: var(--bg-color);\n",
       "    border: none;\n",
       "    border-radius: 50%;\n",
       "    cursor: pointer;\n",
       "    display: none;\n",
       "    fill: var(--fill-color);\n",
       "    height: 32px;\n",
       "    padding: 0;\n",
       "    width: 32px;\n",
       "  }\n",
       "\n",
       "  .colab-df-quickchart:hover {\n",
       "    background-color: var(--hover-bg-color);\n",
       "    box-shadow: 0 1px 2px rgba(60, 64, 67, 0.3), 0 1px 3px 1px rgba(60, 64, 67, 0.15);\n",
       "    fill: var(--button-hover-fill-color);\n",
       "  }\n",
       "\n",
       "  .colab-df-quickchart-complete:disabled,\n",
       "  .colab-df-quickchart-complete:disabled:hover {\n",
       "    background-color: var(--disabled-bg-color);\n",
       "    fill: var(--disabled-fill-color);\n",
       "    box-shadow: none;\n",
       "  }\n",
       "\n",
       "  .colab-df-spinner {\n",
       "    border: 2px solid var(--fill-color);\n",
       "    border-color: transparent;\n",
       "    border-bottom-color: var(--fill-color);\n",
       "    animation:\n",
       "      spin 1s steps(1) infinite;\n",
       "  }\n",
       "\n",
       "  @keyframes spin {\n",
       "    0% {\n",
       "      border-color: transparent;\n",
       "      border-bottom-color: var(--fill-color);\n",
       "      border-left-color: var(--fill-color);\n",
       "    }\n",
       "    20% {\n",
       "      border-color: transparent;\n",
       "      border-left-color: var(--fill-color);\n",
       "      border-top-color: var(--fill-color);\n",
       "    }\n",
       "    30% {\n",
       "      border-color: transparent;\n",
       "      border-left-color: var(--fill-color);\n",
       "      border-top-color: var(--fill-color);\n",
       "      border-right-color: var(--fill-color);\n",
       "    }\n",
       "    40% {\n",
       "      border-color: transparent;\n",
       "      border-right-color: var(--fill-color);\n",
       "      border-top-color: var(--fill-color);\n",
       "    }\n",
       "    60% {\n",
       "      border-color: transparent;\n",
       "      border-right-color: var(--fill-color);\n",
       "    }\n",
       "    80% {\n",
       "      border-color: transparent;\n",
       "      border-right-color: var(--fill-color);\n",
       "      border-bottom-color: var(--fill-color);\n",
       "    }\n",
       "    90% {\n",
       "      border-color: transparent;\n",
       "      border-bottom-color: var(--fill-color);\n",
       "    }\n",
       "  }\n",
       "</style>\n",
       "\n",
       "  <script>\n",
       "    async function quickchart(key) {\n",
       "      const quickchartButtonEl =\n",
       "        document.querySelector('#' + key + ' button');\n",
       "      quickchartButtonEl.disabled = true;  // To prevent multiple clicks.\n",
       "      quickchartButtonEl.classList.add('colab-df-spinner');\n",
       "      try {\n",
       "        const charts = await google.colab.kernel.invokeFunction(\n",
       "            'suggestCharts', [key], {});\n",
       "      } catch (error) {\n",
       "        console.error('Error during call to suggestCharts:', error);\n",
       "      }\n",
       "      quickchartButtonEl.classList.remove('colab-df-spinner');\n",
       "      quickchartButtonEl.classList.add('colab-df-quickchart-complete');\n",
       "    }\n",
       "    (() => {\n",
       "      let quickchartButtonEl =\n",
       "        document.querySelector('#df-e3028b3e-9980-4cc0-8da0-abfd75ca8bba button');\n",
       "      quickchartButtonEl.style.display =\n",
       "        google.colab.kernel.accessAllowed ? 'block' : 'none';\n",
       "    })();\n",
       "  </script>\n",
       "</div>\n",
       "\n",
       "    </div>\n",
       "  </div>\n"
      ],
      "text/plain": [
       "                                                    text  relevant\n",
       "15986  \\n спасибо что напомнили что нас ебут 3 сема п...         0\n",
       "36128   Фтизиатры по ОМС и не принимают. Если живете ...         0\n",
       "9444     этот символ повторяет расцветку медали \"За о...         0\n",
       "30224  Я хоть не с Вами, пока, но у меня в колледже б...         1\n",
       "16596                             Ждем новых студентов 🦉         0\n",
       "35800  а с чего ты решил, что отправят на комиссию? Я...         1\n",
       "3803   Смотря что понимать под условиями. Общежитие н...         1\n",
       "2982   Кажется ни одно мероприятие нашего университет...         1\n",
       "26007           Лучший преподаватель по электротехнике!!         1\n",
       "23484  \\n на нем можно писать курсовую и диплом в люб...         0"
      ]
     },
     "metadata": {},
     "output_type": "display_data"
    }
   ],
   "source": [
    "# Load the dataset into a pandas dataframe.\n",
    "df = pd.read_csv(\"data/train_data.csv\")\n",
    "\n",
    "# Report the number of sentences.\n",
    "print('Number of training sentences: {:,}\\n'.format(df.shape[0]))\n",
    "\n",
    "# Display 10 random rows from the data.\n",
    "df.sample(10)"
   ]
  },
  {
   "cell_type": "code",
   "execution_count": null,
   "metadata": {},
   "outputs": [],
   "source": [
    "# Get the lists of sentences and their labels.\n",
    "texts = df.text.astype(str).values\n",
    "labels = df.relevant.values.astype(int)"
   ]
  },
  {
   "cell_type": "code",
   "execution_count": null,
   "metadata": {},
   "outputs": [
    {
     "data": {
      "text/plain": [
       "(array(['\\nПридет в течение недели, как поступят федеральные средства',\n",
       "        'Скучаю и люблю! МЭИ лучший в мире!',\n",
       "        'Мастер-класс просто суперский✨ Очень всё понравилось, хотелось бы повторить)'],\n",
       "       dtype=object),\n",
       " array([0, 1, 1]))"
      ]
     },
     "metadata": {},
     "output_type": "display_data"
    }
   ],
   "source": [
    "texts[:3], labels[:3]"
   ]
  },
  {
   "cell_type": "markdown",
   "metadata": {},
   "source": [
    "# 3. Токенизация & Форматирование Input\n",
    "\n",
    "В данной секции преобразуем данные к формату, с которым работает BERT."
   ]
  },
  {
   "cell_type": "markdown",
   "metadata": {},
   "source": [
    "## 3.1. BERT Tokenizer"
   ]
  },
  {
   "cell_type": "markdown",
   "metadata": {},
   "source": [
    "В ходе работы будем использовать предобученную модель архтектуры BERT на русском языке: cointegrated/rubert-tiny2"
   ]
  },
  {
   "cell_type": "code",
   "execution_count": null,
   "metadata": {},
   "outputs": [],
   "source": [
    "model_name = 'cointegrated/rubert-tiny2'\n",
    "batch_size = 32\n",
    "random_state = 42"
   ]
  },
  {
   "cell_type": "code",
   "execution_count": null,
   "metadata": {},
   "outputs": [
    {
     "name": "stdout",
     "output_type": "stream",
     "text": [
      "Loading cointegrated/rubert-tiny2 tokenizer...\n"
     ]
    }
   ],
   "source": [
    "# Load the BERT tokenizer.\n",
    "print(f'Loading {model_name} tokenizer...')\n",
    "tokenizer = BertTokenizer.from_pretrained(model_name)"
   ]
  },
  {
   "cell_type": "markdown",
   "metadata": {},
   "source": [
    "Применим токенайзер к одному из наших текстов и посмотрим, что получится.\n"
   ]
  },
  {
   "cell_type": "code",
   "execution_count": null,
   "metadata": {},
   "outputs": [
    {
     "name": "stdout",
     "output_type": "stream",
     "text": [
      "Original:  \n",
      "Придет в течение недели, как поступят федеральные средства\n",
      "Tokenized:  ['Прид', '##ет', 'в', 'течение', 'недели', ',', 'как', 'поступят', 'федеральные', 'средства']\n",
      "Token IDs:  [2, 53809, 1588, 314, 6239, 23673, 16, 1150, 67268, 48513, 11201, 3]\n"
     ]
    }
   ],
   "source": [
    "# Print the original sentence.\n",
    "print('Original: ', texts[0])\n",
    "\n",
    "# Print the sentence split into tokens.\n",
    "print('Tokenized: ', tokenizer.tokenize(texts[0]))\n",
    "\n",
    "# Print the sentence mapped to token ids.\n",
    "print('Token IDs: ', tokenizer.encode(texts[0]))"
   ]
  },
  {
   "cell_type": "markdown",
   "metadata": {},
   "source": [
    "## 3.2. Токенизация данных"
   ]
  },
  {
   "cell_type": "markdown",
   "metadata": {},
   "source": [
    "Перед тем, как закодировать текст, найдем максимальную длину текстов.\n",
    "\n",
    "\n",
    "В ячейке ниже происходит проход по датасету для определения максимальной длины."
   ]
  },
  {
   "cell_type": "code",
   "execution_count": null,
   "metadata": {},
   "outputs": [
    {
     "name": "stdout",
     "output_type": "stream",
     "text": [
      "Max sentence length:  1069\n"
     ]
    }
   ],
   "source": [
    "max_length = 0\n",
    "text_lens = []\n",
    "\n",
    "for text in texts:\n",
    "  input_ids = tokenizer.encode(text, add_special_tokens=True)\n",
    "  current_len = len(input_ids)\n",
    "  text_lens.append(current_len)\n",
    "\n",
    "text_lens = np.array(text_lens)\n",
    "max_length = text_lens.max()\n",
    "print('Max sentence length: ', max_length)"
   ]
  },
  {
   "cell_type": "code",
   "execution_count": null,
   "metadata": {},
   "outputs": [
    {
     "name": "stdout",
     "output_type": "stream",
     "text": [
      "Mean: 48.396164235548355\n",
      "Median: 28.0\n",
      "Variance: 3694.0681214295364\n",
      "Standard deviation: 60.7788460027791\n",
      "Q1 = 17.0, Q3 = 55.0\n"
     ]
    }
   ],
   "source": [
    "# 1. Mean\n",
    "mean = text_lens.mean()\n",
    "\n",
    "# 2. Variance\n",
    "variance = text_lens.var()\n",
    "\n",
    "# 3. Standard deviation\n",
    "std = text_lens.std()\n",
    "\n",
    "# 4. Quartiles\n",
    "Q1 = np.percentile(text_lens, 25)\n",
    "Q2 = np.percentile(text_lens, 50)\n",
    "Q3 = np.percentile(text_lens, 75)\n",
    "\n",
    "# Print results\n",
    "print(\"Mean:\", mean)\n",
    "print(\"Median:\", Q2)\n",
    "print(\"Variance:\", variance)\n",
    "print(\"Standard deviation:\", std)\n",
    "print(f\"Q1 = {Q1}, Q3 = {Q3}\")\n"
   ]
  },
  {
   "cell_type": "markdown",
   "metadata": {},
   "source": [
    "За длину возьмем 3 квартиль"
   ]
  },
  {
   "cell_type": "code",
   "execution_count": null,
   "metadata": {},
   "outputs": [],
   "source": [
    "max_length = int(Q3)"
   ]
  },
  {
   "cell_type": "markdown",
   "metadata": {},
   "source": [
    "Формируем токенизированные множества."
   ]
  },
  {
   "cell_type": "code",
   "execution_count": null,
   "metadata": {},
   "outputs": [],
   "source": [
    "# Tokenize all of the sentences and map the tokens to thier word IDs.\n",
    "def preparing_text_and_labels(texts, labels, max_length, truncation=False):\n",
    "    input_ids = []\n",
    "    attention_masks = []\n",
    "\n",
    "    for text in texts:\n",
    "\n",
    "        encoded_dict = tokenizer.encode_plus(\n",
    "                            text,\n",
    "                            add_special_tokens = True,\n",
    "                            max_length = max_length,\n",
    "                            padding='max_length',\n",
    "                            return_attention_mask = True,\n",
    "                            return_tensors = 'pt',\n",
    "                            truncation=truncation\n",
    "                    )\n",
    "\n",
    "        # Add the encoded sentence to the list.\n",
    "        input_ids.append(encoded_dict['input_ids'])\n",
    "\n",
    "        # And its attention mask (simply differentiates padding from non-padding).\n",
    "        attention_masks.append(encoded_dict['attention_mask'])\n",
    "\n",
    "    # Convert the lists into tensors.\n",
    "    input_ids = torch.cat(input_ids, dim=0)\n",
    "    attention_masks = torch.cat(attention_masks, dim=0)\n",
    "    labels = torch.tensor(labels)\n",
    "    return input_ids, attention_masks, labels\n"
   ]
  },
  {
   "cell_type": "code",
   "execution_count": null,
   "metadata": {},
   "outputs": [
    {
     "name": "stdout",
     "output_type": "stream",
     "text": [
      "Original:  \n",
      "Придет в течение недели, как поступят федеральные средства\n",
      "Token IDs: tensor([    2, 53809,  1588,   314,  6239, 23673,    16,  1150, 67268, 48513,\n",
      "        11201,     3,     0,     0,     0,     0,     0,     0,     0,     0,\n",
      "            0,     0,     0,     0,     0,     0,     0,     0,     0,     0,\n",
      "            0,     0,     0,     0,     0,     0,     0,     0,     0,     0,\n",
      "            0,     0,     0,     0,     0,     0,     0,     0,     0,     0,\n",
      "            0,     0,     0,     0,     0])\n"
     ]
    }
   ],
   "source": [
    "input_ids, attention_masks, labels = preparing_text_and_labels(texts, labels, max_length=max_length, truncation=True)\n",
    "\n",
    "print('Original: ', texts[0])\n",
    "print('Token IDs:', input_ids[0])"
   ]
  },
  {
   "cell_type": "markdown",
   "metadata": {},
   "source": [
    "## 3.3. Training & Validation Split\n"
   ]
  },
  {
   "cell_type": "markdown",
   "metadata": {},
   "source": [
    "Разделим данные на train и val в пропорции  90% к 10%."
   ]
  },
  {
   "cell_type": "code",
   "execution_count": null,
   "metadata": {},
   "outputs": [],
   "source": [
    "train_part = 0.9"
   ]
  },
  {
   "cell_type": "code",
   "execution_count": null,
   "metadata": {},
   "outputs": [
    {
     "name": "stdout",
     "output_type": "stream",
     "text": [
      "33,318 training samples\n",
      "3,702 validation samples\n"
     ]
    }
   ],
   "source": [
    "# Combine the training inputs into a TensorDataset.\n",
    "dataset = TensorDataset(input_ids, attention_masks, labels)\n",
    "\n",
    "# Calculate the number of samples to include in each set.\n",
    "train_size = int(train_part * len(dataset))\n",
    "val_size = len(dataset) - train_size\n",
    "\n",
    "# Divide the dataset by randomly selecting samples.\n",
    "train_dataset, val_dataset = random_split(dataset, [train_size, val_size])\n",
    "\n",
    "print('{:>5,} training samples'.format(train_size))\n",
    "print('{:>5,} validation samples'.format(val_size))"
   ]
  },
  {
   "cell_type": "markdown",
   "metadata": {},
   "source": [
    "Также создадим итератор с использование класса  DataLoader из библиотеки torch."
   ]
  },
  {
   "cell_type": "code",
   "execution_count": null,
   "metadata": {},
   "outputs": [],
   "source": [
    "train_dataloader = DataLoader(\n",
    "            train_dataset,\n",
    "            sampler = RandomSampler(train_dataset), # Select batches randomly\n",
    "            batch_size = batch_size\n",
    "        )\n",
    "\n",
    "validation_dataloader = DataLoader(\n",
    "            val_dataset,\n",
    "            sampler = SequentialSampler(val_dataset), # Pull out batches sequentially.\n",
    "            batch_size = batch_size\n",
    "        )"
   ]
  },
  {
   "cell_type": "markdown",
   "metadata": {},
   "source": [
    "Теперь, когда данные отформатированы, можем обучить модель."
   ]
  },
  {
   "cell_type": "markdown",
   "metadata": {},
   "source": [
    "## 4.1. BertForSequenceClassification"
   ]
  },
  {
   "cell_type": "code",
   "execution_count": null,
   "metadata": {},
   "outputs": [
    {
     "name": "stderr",
     "output_type": "stream",
     "text": [
      "Some weights of BertForSequenceClassification were not initialized from the model checkpoint at cointegrated/rubert-tiny2 and are newly initialized: ['classifier.bias', 'classifier.weight']\n",
      "You should probably TRAIN this model on a down-stream task to be able to use it for predictions and inference.\n"
     ]
    },
    {
     "data": {
      "text/plain": [
       "BertForSequenceClassification(\n",
       "  (bert): BertModel(\n",
       "    (embeddings): BertEmbeddings(\n",
       "      (word_embeddings): Embedding(83828, 312, padding_idx=0)\n",
       "      (position_embeddings): Embedding(2048, 312)\n",
       "      (token_type_embeddings): Embedding(2, 312)\n",
       "      (LayerNorm): LayerNorm((312,), eps=1e-12, elementwise_affine=True)\n",
       "      (dropout): Dropout(p=0.1, inplace=False)\n",
       "    )\n",
       "    (encoder): BertEncoder(\n",
       "      (layer): ModuleList(\n",
       "        (0-2): 3 x BertLayer(\n",
       "          (attention): BertAttention(\n",
       "            (self): BertSdpaSelfAttention(\n",
       "              (query): Linear(in_features=312, out_features=312, bias=True)\n",
       "              (key): Linear(in_features=312, out_features=312, bias=True)\n",
       "              (value): Linear(in_features=312, out_features=312, bias=True)\n",
       "              (dropout): Dropout(p=0.1, inplace=False)\n",
       "            )\n",
       "            (output): BertSelfOutput(\n",
       "              (dense): Linear(in_features=312, out_features=312, bias=True)\n",
       "              (LayerNorm): LayerNorm((312,), eps=1e-12, elementwise_affine=True)\n",
       "              (dropout): Dropout(p=0.1, inplace=False)\n",
       "            )\n",
       "          )\n",
       "          (intermediate): BertIntermediate(\n",
       "            (dense): Linear(in_features=312, out_features=600, bias=True)\n",
       "            (intermediate_act_fn): GELUActivation()\n",
       "          )\n",
       "          (output): BertOutput(\n",
       "            (dense): Linear(in_features=600, out_features=312, bias=True)\n",
       "            (LayerNorm): LayerNorm((312,), eps=1e-12, elementwise_affine=True)\n",
       "            (dropout): Dropout(p=0.1, inplace=False)\n",
       "          )\n",
       "        )\n",
       "      )\n",
       "    )\n",
       "    (pooler): BertPooler(\n",
       "      (dense): Linear(in_features=312, out_features=312, bias=True)\n",
       "      (activation): Tanh()\n",
       "    )\n",
       "  )\n",
       "  (dropout): Dropout(p=0.1, inplace=False)\n",
       "  (classifier): Linear(in_features=312, out_features=2, bias=True)\n",
       ")"
      ]
     },
     "metadata": {},
     "output_type": "display_data"
    }
   ],
   "source": [
    "model = BertForSequenceClassification.from_pretrained(\n",
    "    model_name,\n",
    "    num_labels = 2, # The number of output labels--2 for binary classification.\n",
    "    output_attentions = False, # Whether the model returns attentions weights.\n",
    "    output_hidden_states = False, # Whether the model returns all hidden-states.\n",
    ")\n",
    "\n",
    "# Using GPU.\n",
    "model.cuda()"
   ]
  },
  {
   "cell_type": "markdown",
   "metadata": {},
   "source": [
    "Ради интереса выведем на печать параметры для нескольких слоев:\n",
    "\n",
    "\n",
    "1. The embedding layer.\n",
    "2. Первый из 12 ти трансформеров.\n",
    "3. The output layer.\n",
    "\n",
    "\n"
   ]
  },
  {
   "cell_type": "code",
   "execution_count": null,
   "metadata": {},
   "outputs": [
    {
     "name": "stdout",
     "output_type": "stream",
     "text": [
      "The BERT model has 57 different named parameters.\n",
      "\n",
      "==== Embedding Layer ====\n",
      "\n",
      "bert.embeddings.word_embeddings.weight                  (83828, 312)\n",
      "bert.embeddings.position_embeddings.weight               (2048, 312)\n",
      "bert.embeddings.token_type_embeddings.weight                (2, 312)\n",
      "bert.embeddings.LayerNorm.weight                              (312,)\n",
      "bert.embeddings.LayerNorm.bias                                (312,)\n",
      "\n",
      "==== First Transformer ====\n",
      "\n",
      "bert.encoder.layer.0.attention.self.query.weight          (312, 312)\n",
      "bert.encoder.layer.0.attention.self.query.bias                (312,)\n",
      "bert.encoder.layer.0.attention.self.key.weight            (312, 312)\n",
      "bert.encoder.layer.0.attention.self.key.bias                  (312,)\n",
      "bert.encoder.layer.0.attention.self.value.weight          (312, 312)\n",
      "bert.encoder.layer.0.attention.self.value.bias                (312,)\n",
      "bert.encoder.layer.0.attention.output.dense.weight        (312, 312)\n",
      "bert.encoder.layer.0.attention.output.dense.bias              (312,)\n",
      "bert.encoder.layer.0.attention.output.LayerNorm.weight        (312,)\n",
      "bert.encoder.layer.0.attention.output.LayerNorm.bias          (312,)\n",
      "bert.encoder.layer.0.intermediate.dense.weight            (600, 312)\n",
      "bert.encoder.layer.0.intermediate.dense.bias                  (600,)\n",
      "bert.encoder.layer.0.output.dense.weight                  (312, 600)\n",
      "bert.encoder.layer.0.output.dense.bias                        (312,)\n",
      "bert.encoder.layer.0.output.LayerNorm.weight                  (312,)\n",
      "bert.encoder.layer.0.output.LayerNorm.bias                    (312,)\n",
      "\n",
      "==== Output Layer ====\n",
      "\n",
      "bert.pooler.dense.weight                                  (312, 312)\n",
      "bert.pooler.dense.bias                                        (312,)\n",
      "classifier.weight                                           (2, 312)\n",
      "classifier.bias                                                 (2,)\n"
     ]
    }
   ],
   "source": [
    "# Get all of the model's parameters as a list of tuples.\n",
    "params = list(model.named_parameters())\n",
    "\n",
    "print('The BERT model has {:} different named parameters.\\n'.format(len(params)))\n",
    "\n",
    "print('==== Embedding Layer ====\\n')\n",
    "\n",
    "for p in params[0:5]:\n",
    "    print(\"{:<55} {:>12}\".format(p[0], str(tuple(p[1].size()))))\n",
    "\n",
    "print('\\n==== First Transformer ====\\n')\n",
    "\n",
    "for p in params[5:21]:\n",
    "    print(\"{:<55} {:>12}\".format(p[0], str(tuple(p[1].size()))))\n",
    "\n",
    "print('\\n==== Output Layer ====\\n')\n",
    "\n",
    "for p in params[-4:]:\n",
    "    print(\"{:<55} {:>12}\".format(p[0], str(tuple(p[1].size()))))"
   ]
  },
  {
   "cell_type": "markdown",
   "metadata": {},
   "source": [
    "## 4.2. Optimizer & Learning Rate Scheduler"
   ]
  },
  {
   "cell_type": "markdown",
   "metadata": {},
   "source": [
    "Определим optimizer и sheduler.\n",
    "\n",
    "Наиболее популярные конфигурации параметров:\n",
    "- **Batch size:** 16, 32  \n",
    "- **Learning rate (Adam):** 5e-5, 3e-5, 2e-5  \n",
    "- **Number of epochs:** 2, 3, 4\n",
    "\n",
    "Мы выберем:\n",
    "* Batch size: 32 (при инициализации DataLoaders)\n",
    "* Learning rate: 2e-5\n",
    "* Epochs: 4\n",
    "\n",
    "Параметр эпсилон `eps = 1e-8` - это \"очень маленькое число\", которое позволяет избежать деления на 0"
   ]
  },
  {
   "cell_type": "code",
   "execution_count": null,
   "metadata": {},
   "outputs": [
    {
     "name": "stderr",
     "output_type": "stream",
     "text": [
      "/usr/local/lib/python3.10/dist-packages/transformers/optimization.py:591: FutureWarning: This implementation of AdamW is deprecated and will be removed in a future version. Use the PyTorch implementation torch.optim.AdamW instead, or set `no_deprecation_warning=True` to disable this warning\n",
      "  warnings.warn(\n"
     ]
    }
   ],
   "source": [
    "optimizer = AdamW(model.parameters(),\n",
    "                  lr = 2e-5,\n",
    "                  eps = 1e-8\n",
    "                )\n"
   ]
  },
  {
   "cell_type": "code",
   "execution_count": null,
   "metadata": {},
   "outputs": [],
   "source": [
    "epochs = 4\n",
    "\n",
    "total_steps = len(train_dataloader) * epochs\n",
    "\n",
    "# Create the learning rate scheduler.\n",
    "scheduler = get_linear_schedule_with_warmup(optimizer,\n",
    "                                            num_warmup_steps = 0, # Default value in run_glue.py\n",
    "                                            num_training_steps = total_steps)"
   ]
  },
  {
   "cell_type": "markdown",
   "metadata": {},
   "source": [
    "## 4.3. Training Loop"
   ]
  },
  {
   "cell_type": "markdown",
   "metadata": {},
   "source": [
    "Ниже приведена петля обучения (training loop). На каждом проходе по данным мы проходим по всему обучающему и валидационную датасетам.\n",
    "\n",
    "\n",
    "**Training:**\n",
    "- Распаковать обучающие данные и лейблы\n",
    "- Загрузить данные на GPU для ускорения\n",
    "- Занулить градиенты с предыдущего шаге\n",
    "- Forward pass (скормить данные в нейросеть и пробросить их вперед)\n",
    "- Backward pass (backpropagation - посчитать градиенты по всем параметрам с помощью обратного распространения ошибки)\n",
    "- Обновить параметры с помощью optimizer.step()\n",
    "- Посчитать статистики, чтобы следить за обучением\n",
    "\n",
    "**Evalution:**\n",
    "- Распаковать валидационные данные и лейблы\n",
    "- Загрузить данные на GPU для ускорения\n",
    "- Forward pass (скормить данные в нейросеть и пробросить их вперед)\n",
    "- Посчитать loss и статистики на валидационных данных, чтобы следить за обучением"
   ]
  },
  {
   "cell_type": "markdown",
   "metadata": {},
   "source": [
    "##"
   ]
  },
  {
   "cell_type": "markdown",
   "metadata": {},
   "source": [
    "Вспомогательная функция для вычисления F1."
   ]
  },
  {
   "cell_type": "code",
   "execution_count": null,
   "metadata": {},
   "outputs": [],
   "source": [
    "# Function to calculate the f1 of our predictions vs labels\n",
    "def flat_f1(preds, labels):\n",
    "    pred_flat = np.argmax(preds, axis=1).flatten()\n",
    "    labels_flat = labels.flatten()\n",
    "    return f1_score(pred_flat, labels_flat)"
   ]
  },
  {
   "cell_type": "markdown",
   "metadata": {},
   "source": [
    "Вспомогательная функция для отслеживания затраченного времени.\n"
   ]
  },
  {
   "cell_type": "code",
   "execution_count": null,
   "metadata": {},
   "outputs": [],
   "source": [
    "def format_time(elapsed):\n",
    "    '''\n",
    "    Takes a time in seconds and returns a string hh:mm:ss\n",
    "    '''\n",
    "    # Round to the nearest second.\n",
    "    elapsed_rounded = int(round((elapsed)))\n",
    "\n",
    "    # Format as hh:mm:ss\n",
    "    return str(datetime.timedelta(seconds=elapsed_rounded))\n"
   ]
  },
  {
   "cell_type": "markdown",
   "metadata": {},
   "source": [
    "Все готово к обучению! Приступим!"
   ]
  },
  {
   "cell_type": "code",
   "execution_count": null,
   "metadata": {},
   "outputs": [],
   "source": [
    "def fine_tune_model(train_dataloader, validation_dataloader, random_state=random_state):\n",
    "\n",
    "    random.seed(random_state)\n",
    "    np.random.seed(random_state)\n",
    "    torch.manual_seed(random_state)\n",
    "    torch.cuda.manual_seed_all(random_state)\n",
    "\n",
    "    training_stats = []\n",
    "\n",
    "    # Measure the total training time for the whole run.\n",
    "    total_t0 = time.time()\n",
    "\n",
    "    # For each epoch...\n",
    "    for epoch_i in range(0, epochs):\n",
    "\n",
    "        print(\"\")\n",
    "        print('======== Epoch {:} / {:} ========'.format(epoch_i + 1, epochs))\n",
    "        print('Training...')\n",
    "\n",
    "        # Measure how long the training epoch takes.\n",
    "        t0 = time.time()\n",
    "\n",
    "        # Reset the total loss for this epoch.\n",
    "        total_train_loss = 0\n",
    "\n",
    "        model.train()\n",
    "\n",
    "        # For each batch of training data...\n",
    "        for step, batch in enumerate(train_dataloader):\n",
    "\n",
    "            # Progress update every 40 batches.\n",
    "            if step % 40 == 0 and not step == 0:\n",
    "                # Calculate elapsed time in minutes.\n",
    "                elapsed = format_time(time.time() - t0)\n",
    "\n",
    "                # Report progress.\n",
    "                print('  Batch {:>5,}  of  {:>5,}.    Elapsed: {:}.'.format(step, len(train_dataloader), elapsed))\n",
    "\n",
    "            b_input_ids = batch[0].to(device)\n",
    "            b_input_mask = batch[1].to(device)\n",
    "            b_labels = batch[2].to(device)\n",
    "\n",
    "            model.zero_grad()\n",
    "\n",
    "            res = model(b_input_ids,\n",
    "                                token_type_ids=None,\n",
    "                                attention_mask=b_input_mask,\n",
    "                                labels=b_labels)\n",
    "            loss = res['loss']\n",
    "            logits = res['logits']\n",
    "\n",
    "            total_train_loss += loss.item()\n",
    "\n",
    "            # Perform a backward pass to calculate the gradients.\n",
    "            loss.backward()\n",
    "\n",
    "            # This is to help prevent the \"exploding gradients\" problem.\n",
    "            torch.nn.utils.clip_grad_norm_(model.parameters(), 1.0)\n",
    "\n",
    "            optimizer.step()\n",
    "\n",
    "            # Update the learning rate.\n",
    "            scheduler.step()\n",
    "\n",
    "        # Calculate the average loss over all of the batches.\n",
    "        avg_train_loss = total_train_loss / len(train_dataloader)\n",
    "\n",
    "        # Measure how long this epoch took.\n",
    "        training_time = format_time(time.time() - t0)\n",
    "\n",
    "        print(\"\")\n",
    "        print(\"  Average training loss: {0:.2f}\".format(avg_train_loss))\n",
    "        print(\"  Training epcoh took: {:}\".format(training_time))\n",
    "\n",
    "        # Validation\n",
    "        print(\"\")\n",
    "        print(\"Running Validation...\")\n",
    "\n",
    "        t0 = time.time()\n",
    "\n",
    "        # Put the model in evaluation mode--the dropout layers behave differently\n",
    "        # during evaluation.\n",
    "        model.eval()\n",
    "\n",
    "        # Tracking variables\n",
    "        total_eval_f1 = 0\n",
    "        total_eval_loss = 0\n",
    "        nb_eval_steps = 0\n",
    "\n",
    "        # Evaluate data for one epoch\n",
    "        for batch in validation_dataloader:\n",
    "\n",
    "            b_input_ids = batch[0].to(device)\n",
    "            b_input_mask = batch[1].to(device)\n",
    "            b_labels = batch[2].to(device)\n",
    "\n",
    "            with torch.no_grad():\n",
    "\n",
    "                res = model(b_input_ids,\n",
    "                                    token_type_ids=None,\n",
    "                                    attention_mask=b_input_mask,\n",
    "                                    labels=b_labels)\n",
    "                loss = res['loss']\n",
    "                logits = res['logits']\n",
    "\n",
    "            # Accumulate the validation loss.\n",
    "            total_eval_loss += loss.item()\n",
    "\n",
    "            # Move logits and labels to CPU\n",
    "            logits = logits.detach().cpu().numpy()\n",
    "            label_ids = b_labels.to('cpu').numpy()\n",
    "\n",
    "            # Calculate the accuracy for this batch of test sentences, and\n",
    "            # accumulate it over all batches.\n",
    "            total_eval_f1 += flat_f1(logits, label_ids)\n",
    "\n",
    "\n",
    "        # Report the final accuracy for this validation run.\n",
    "        avg_val_f1 = total_eval_f1 / len(validation_dataloader)\n",
    "        print(\"  F1: {0:.2f}\".format(avg_val_f1))\n",
    "\n",
    "        # Calculate the average loss over all of the batches.\n",
    "        avg_val_loss = total_eval_loss / len(validation_dataloader)\n",
    "\n",
    "        # Measure how long the validation run took.\n",
    "        validation_time = format_time(time.time() - t0)\n",
    "\n",
    "        print(\"  Validation Loss: {0:.2f}\".format(avg_val_loss))\n",
    "        print(\"  Validation took: {:}\".format(validation_time))\n",
    "\n",
    "        # Record all statistics from this epoch.\n",
    "        training_stats.append(\n",
    "            {\n",
    "                'epoch': epoch_i + 1,\n",
    "                'Training Loss': avg_train_loss,\n",
    "                'Valid. Loss': avg_val_loss,\n",
    "                'Valid. F1.': avg_val_f1,\n",
    "                'Training Time': training_time,\n",
    "                'Validation Time': validation_time\n",
    "            }\n",
    "        )\n",
    "\n",
    "    print(\"\")\n",
    "\n",
    "    print(\"Training complete!\")\n",
    "\n",
    "    print(\"Total training took {:} (h:mm:ss)\".format(format_time(time.time()-total_t0)))\n",
    "    return training_stats"
   ]
  },
  {
   "cell_type": "code",
   "execution_count": null,
   "metadata": {},
   "outputs": [
    {
     "name": "stdout",
     "output_type": "stream",
     "text": [
      "\n",
      "======== Epoch 1 / 4 ========\n",
      "Training...\n",
      "  Batch    40  of  1,042.    Elapsed: 0:00:01.\n",
      "  Batch    80  of  1,042.    Elapsed: 0:00:02.\n",
      "  Batch   120  of  1,042.    Elapsed: 0:00:03.\n",
      "  Batch   160  of  1,042.    Elapsed: 0:00:04.\n",
      "  Batch   200  of  1,042.    Elapsed: 0:00:05.\n",
      "  Batch   240  of  1,042.    Elapsed: 0:00:05.\n",
      "  Batch   280  of  1,042.    Elapsed: 0:00:06.\n",
      "  Batch   320  of  1,042.    Elapsed: 0:00:08.\n",
      "  Batch   360  of  1,042.    Elapsed: 0:00:10.\n",
      "  Batch   400  of  1,042.    Elapsed: 0:00:11.\n",
      "  Batch   440  of  1,042.    Elapsed: 0:00:13.\n",
      "  Batch   480  of  1,042.    Elapsed: 0:00:14.\n",
      "  Batch   520  of  1,042.    Elapsed: 0:00:15.\n",
      "  Batch   560  of  1,042.    Elapsed: 0:00:15.\n",
      "  Batch   600  of  1,042.    Elapsed: 0:00:16.\n",
      "  Batch   640  of  1,042.    Elapsed: 0:00:17.\n",
      "  Batch   680  of  1,042.    Elapsed: 0:00:18.\n",
      "  Batch   720  of  1,042.    Elapsed: 0:00:19.\n",
      "  Batch   760  of  1,042.    Elapsed: 0:00:20.\n",
      "  Batch   800  of  1,042.    Elapsed: 0:00:21.\n",
      "  Batch   840  of  1,042.    Elapsed: 0:00:22.\n",
      "  Batch   880  of  1,042.    Elapsed: 0:00:23.\n",
      "  Batch   920  of  1,042.    Elapsed: 0:00:24.\n",
      "  Batch   960  of  1,042.    Elapsed: 0:00:25.\n",
      "  Batch 1,000  of  1,042.    Elapsed: 0:00:25.\n",
      "  Batch 1,040  of  1,042.    Elapsed: 0:00:26.\n",
      "\n",
      "  Average training loss: 0.51\n",
      "  Training epcoh took: 0:00:26\n",
      "\n",
      "Running Validation...\n",
      "  F1: 0.84\n",
      "  Validation Loss: 0.48\n",
      "  Validation took: 0:00:01\n",
      "\n",
      "======== Epoch 2 / 4 ========\n",
      "Training...\n",
      "  Batch    40  of  1,042.    Elapsed: 0:00:01.\n",
      "  Batch    80  of  1,042.    Elapsed: 0:00:02.\n",
      "  Batch   120  of  1,042.    Elapsed: 0:00:03.\n",
      "  Batch   160  of  1,042.    Elapsed: 0:00:04.\n",
      "  Batch   200  of  1,042.    Elapsed: 0:00:05.\n",
      "  Batch   240  of  1,042.    Elapsed: 0:00:05.\n",
      "  Batch   280  of  1,042.    Elapsed: 0:00:06.\n",
      "  Batch   320  of  1,042.    Elapsed: 0:00:07.\n",
      "  Batch   360  of  1,042.    Elapsed: 0:00:08.\n",
      "  Batch   400  of  1,042.    Elapsed: 0:00:09.\n",
      "  Batch   440  of  1,042.    Elapsed: 0:00:10.\n",
      "  Batch   480  of  1,042.    Elapsed: 0:00:11.\n",
      "  Batch   520  of  1,042.    Elapsed: 0:00:12.\n",
      "  Batch   560  of  1,042.    Elapsed: 0:00:13.\n",
      "  Batch   600  of  1,042.    Elapsed: 0:00:14.\n",
      "  Batch   640  of  1,042.    Elapsed: 0:00:15.\n",
      "  Batch   680  of  1,042.    Elapsed: 0:00:16.\n",
      "  Batch   720  of  1,042.    Elapsed: 0:00:16.\n",
      "  Batch   760  of  1,042.    Elapsed: 0:00:17.\n",
      "  Batch   800  of  1,042.    Elapsed: 0:00:18.\n",
      "  Batch   840  of  1,042.    Elapsed: 0:00:19.\n",
      "  Batch   880  of  1,042.    Elapsed: 0:00:20.\n",
      "  Batch   920  of  1,042.    Elapsed: 0:00:21.\n",
      "  Batch   960  of  1,042.    Elapsed: 0:00:22.\n",
      "  Batch 1,000  of  1,042.    Elapsed: 0:00:23.\n",
      "  Batch 1,040  of  1,042.    Elapsed: 0:00:24.\n",
      "\n",
      "  Average training loss: 0.45\n",
      "  Training epcoh took: 0:00:24\n",
      "\n",
      "Running Validation...\n",
      "  F1: 0.85\n",
      "  Validation Loss: 0.47\n",
      "  Validation took: 0:00:01\n",
      "\n",
      "======== Epoch 3 / 4 ========\n",
      "Training...\n",
      "  Batch    40  of  1,042.    Elapsed: 0:00:01.\n",
      "  Batch    80  of  1,042.    Elapsed: 0:00:02.\n",
      "  Batch   120  of  1,042.    Elapsed: 0:00:03.\n",
      "  Batch   160  of  1,042.    Elapsed: 0:00:04.\n",
      "  Batch   200  of  1,042.    Elapsed: 0:00:05.\n",
      "  Batch   240  of  1,042.    Elapsed: 0:00:05.\n",
      "  Batch   280  of  1,042.    Elapsed: 0:00:06.\n",
      "  Batch   320  of  1,042.    Elapsed: 0:00:07.\n",
      "  Batch   360  of  1,042.    Elapsed: 0:00:08.\n",
      "  Batch   400  of  1,042.    Elapsed: 0:00:09.\n",
      "  Batch   440  of  1,042.    Elapsed: 0:00:10.\n",
      "  Batch   480  of  1,042.    Elapsed: 0:00:11.\n",
      "  Batch   520  of  1,042.    Elapsed: 0:00:12.\n",
      "  Batch   560  of  1,042.    Elapsed: 0:00:13.\n",
      "  Batch   600  of  1,042.    Elapsed: 0:00:14.\n",
      "  Batch   640  of  1,042.    Elapsed: 0:00:15.\n",
      "  Batch   680  of  1,042.    Elapsed: 0:00:16.\n",
      "  Batch   720  of  1,042.    Elapsed: 0:00:17.\n",
      "  Batch   760  of  1,042.    Elapsed: 0:00:18.\n",
      "  Batch   800  of  1,042.    Elapsed: 0:00:19.\n",
      "  Batch   840  of  1,042.    Elapsed: 0:00:19.\n",
      "  Batch   880  of  1,042.    Elapsed: 0:00:20.\n",
      "  Batch   920  of  1,042.    Elapsed: 0:00:21.\n",
      "  Batch   960  of  1,042.    Elapsed: 0:00:22.\n",
      "  Batch 1,000  of  1,042.    Elapsed: 0:00:23.\n",
      "  Batch 1,040  of  1,042.    Elapsed: 0:00:24.\n",
      "\n",
      "  Average training loss: 0.41\n",
      "  Training epcoh took: 0:00:24\n",
      "\n",
      "Running Validation...\n",
      "  F1: 0.85\n",
      "  Validation Loss: 0.47\n",
      "  Validation took: 0:00:01\n",
      "\n",
      "======== Epoch 4 / 4 ========\n",
      "Training...\n",
      "  Batch    40  of  1,042.    Elapsed: 0:00:01.\n",
      "  Batch    80  of  1,042.    Elapsed: 0:00:02.\n",
      "  Batch   120  of  1,042.    Elapsed: 0:00:03.\n",
      "  Batch   160  of  1,042.    Elapsed: 0:00:04.\n",
      "  Batch   200  of  1,042.    Elapsed: 0:00:04.\n",
      "  Batch   240  of  1,042.    Elapsed: 0:00:05.\n",
      "  Batch   280  of  1,042.    Elapsed: 0:00:06.\n",
      "  Batch   320  of  1,042.    Elapsed: 0:00:07.\n",
      "  Batch   360  of  1,042.    Elapsed: 0:00:08.\n",
      "  Batch   400  of  1,042.    Elapsed: 0:00:09.\n",
      "  Batch   440  of  1,042.    Elapsed: 0:00:10.\n",
      "  Batch   480  of  1,042.    Elapsed: 0:00:11.\n",
      "  Batch   520  of  1,042.    Elapsed: 0:00:12.\n",
      "  Batch   560  of  1,042.    Elapsed: 0:00:13.\n",
      "  Batch   600  of  1,042.    Elapsed: 0:00:14.\n",
      "  Batch   640  of  1,042.    Elapsed: 0:00:15.\n",
      "  Batch   680  of  1,042.    Elapsed: 0:00:15.\n",
      "  Batch   720  of  1,042.    Elapsed: 0:00:16.\n",
      "  Batch   760  of  1,042.    Elapsed: 0:00:17.\n",
      "  Batch   800  of  1,042.    Elapsed: 0:00:18.\n",
      "  Batch   840  of  1,042.    Elapsed: 0:00:19.\n",
      "  Batch   880  of  1,042.    Elapsed: 0:00:20.\n",
      "  Batch   920  of  1,042.    Elapsed: 0:00:21.\n",
      "  Batch   960  of  1,042.    Elapsed: 0:00:22.\n",
      "  Batch 1,000  of  1,042.    Elapsed: 0:00:23.\n",
      "  Batch 1,040  of  1,042.    Elapsed: 0:00:24.\n",
      "\n",
      "  Average training loss: 0.39\n",
      "  Training epcoh took: 0:00:24\n",
      "\n",
      "Running Validation...\n",
      "  F1: 0.85\n",
      "  Validation Loss: 0.48\n",
      "  Validation took: 0:00:01\n",
      "\n",
      "Training complete!\n",
      "Total training took 0:01:41 (h:mm:ss)\n"
     ]
    }
   ],
   "source": [
    "training_stats = fine_tune_model(train_dataloader, validation_dataloader)"
   ]
  },
  {
   "cell_type": "markdown",
   "metadata": {},
   "source": [
    "Посмотрим на саммари обучающего процесса!"
   ]
  },
  {
   "cell_type": "code",
   "execution_count": null,
   "metadata": {},
   "outputs": [
    {
     "data": {
      "application/vnd.google.colaboratory.intrinsic+json": {
       "summary": "{\n  \"name\": \"df_stats\",\n  \"rows\": 4,\n  \"fields\": [\n    {\n      \"column\": \"epoch\",\n      \"properties\": {\n        \"dtype\": \"number\",\n        \"std\": 1,\n        \"min\": 1,\n        \"max\": 4,\n        \"num_unique_values\": 4,\n        \"samples\": [\n          2,\n          4,\n          1\n        ],\n        \"semantic_type\": \"\",\n        \"description\": \"\"\n      }\n    },\n    {\n      \"column\": \"Training Loss\",\n      \"properties\": {\n        \"dtype\": \"number\",\n        \"std\": 0.0523123425971006,\n        \"min\": 0.38863620322176223,\n        \"max\": 0.5088691141692324,\n        \"num_unique_values\": 4,\n        \"samples\": [\n          0.4505302832245598,\n          0.38863620322176223,\n          0.5088691141692324\n        ],\n        \"semantic_type\": \"\",\n        \"description\": \"\"\n      }\n    },\n    {\n      \"column\": \"Valid. Loss\",\n      \"properties\": {\n        \"dtype\": \"number\",\n        \"std\": 0.006004216104709582,\n        \"min\": 0.46690395911192073,\n        \"max\": 0.48157693728290757,\n        \"num_unique_values\": 4,\n        \"samples\": [\n          0.46690395911192073,\n          0.4750065603132906,\n          0.48157693728290757\n        ],\n        \"semantic_type\": \"\",\n        \"description\": \"\"\n      }\n    },\n    {\n      \"column\": \"Valid. F1.\",\n      \"properties\": {\n        \"dtype\": \"number\",\n        \"std\": 0.0030463409125595672,\n        \"min\": 0.8435825685948014,\n        \"max\": 0.8499697671443575,\n        \"num_unique_values\": 4,\n        \"samples\": [\n          0.8458630100544985,\n          0.8499697671443575,\n          0.8435825685948014\n        ],\n        \"semantic_type\": \"\",\n        \"description\": \"\"\n      }\n    },\n    {\n      \"column\": \"Training Time\",\n      \"properties\": {\n        \"dtype\": \"object\",\n        \"num_unique_values\": 2,\n        \"samples\": [\n          \"0:00:24\",\n          \"0:00:26\"\n        ],\n        \"semantic_type\": \"\",\n        \"description\": \"\"\n      }\n    },\n    {\n      \"column\": \"Validation Time\",\n      \"properties\": {\n        \"dtype\": \"object\",\n        \"num_unique_values\": 1,\n        \"samples\": [\n          \"0:00:01\"\n        ],\n        \"semantic_type\": \"\",\n        \"description\": \"\"\n      }\n    }\n  ]\n}",
       "type": "dataframe",
       "variable_name": "df_stats"
      },
      "text/html": [
       "\n",
       "  <div id=\"df-2c797c40-8afa-49d3-b76a-cbeb935d5c05\" class=\"colab-df-container\">\n",
       "    <div>\n",
       "<style scoped>\n",
       "    .dataframe tbody tr th:only-of-type {\n",
       "        vertical-align: middle;\n",
       "    }\n",
       "\n",
       "    .dataframe tbody tr th {\n",
       "        vertical-align: top;\n",
       "    }\n",
       "\n",
       "    .dataframe thead th {\n",
       "        text-align: right;\n",
       "    }\n",
       "</style>\n",
       "<table border=\"1\" class=\"dataframe\">\n",
       "  <thead>\n",
       "    <tr style=\"text-align: right;\">\n",
       "      <th></th>\n",
       "      <th>Training Loss</th>\n",
       "      <th>Valid. Loss</th>\n",
       "      <th>Valid. F1.</th>\n",
       "      <th>Training Time</th>\n",
       "      <th>Validation Time</th>\n",
       "    </tr>\n",
       "    <tr>\n",
       "      <th>epoch</th>\n",
       "      <th></th>\n",
       "      <th></th>\n",
       "      <th></th>\n",
       "      <th></th>\n",
       "      <th></th>\n",
       "    </tr>\n",
       "  </thead>\n",
       "  <tbody>\n",
       "    <tr>\n",
       "      <th>1</th>\n",
       "      <td>0.508869</td>\n",
       "      <td>0.481577</td>\n",
       "      <td>0.843583</td>\n",
       "      <td>0:00:26</td>\n",
       "      <td>0:00:01</td>\n",
       "    </tr>\n",
       "    <tr>\n",
       "      <th>2</th>\n",
       "      <td>0.450530</td>\n",
       "      <td>0.466904</td>\n",
       "      <td>0.845863</td>\n",
       "      <td>0:00:24</td>\n",
       "      <td>0:00:01</td>\n",
       "    </tr>\n",
       "    <tr>\n",
       "      <th>3</th>\n",
       "      <td>0.413204</td>\n",
       "      <td>0.474109</td>\n",
       "      <td>0.849502</td>\n",
       "      <td>0:00:24</td>\n",
       "      <td>0:00:01</td>\n",
       "    </tr>\n",
       "    <tr>\n",
       "      <th>4</th>\n",
       "      <td>0.388636</td>\n",
       "      <td>0.475007</td>\n",
       "      <td>0.849970</td>\n",
       "      <td>0:00:24</td>\n",
       "      <td>0:00:01</td>\n",
       "    </tr>\n",
       "  </tbody>\n",
       "</table>\n",
       "</div>\n",
       "    <div class=\"colab-df-buttons\">\n",
       "\n",
       "  <div class=\"colab-df-container\">\n",
       "    <button class=\"colab-df-convert\" onclick=\"convertToInteractive('df-2c797c40-8afa-49d3-b76a-cbeb935d5c05')\"\n",
       "            title=\"Convert this dataframe to an interactive table.\"\n",
       "            style=\"display:none;\">\n",
       "\n",
       "  <svg xmlns=\"http://www.w3.org/2000/svg\" height=\"24px\" viewBox=\"0 -960 960 960\">\n",
       "    <path d=\"M120-120v-720h720v720H120Zm60-500h600v-160H180v160Zm220 220h160v-160H400v160Zm0 220h160v-160H400v160ZM180-400h160v-160H180v160Zm440 0h160v-160H620v160ZM180-180h160v-160H180v160Zm440 0h160v-160H620v160Z\"/>\n",
       "  </svg>\n",
       "    </button>\n",
       "\n",
       "  <style>\n",
       "    .colab-df-container {\n",
       "      display:flex;\n",
       "      gap: 12px;\n",
       "    }\n",
       "\n",
       "    .colab-df-convert {\n",
       "      background-color: #E8F0FE;\n",
       "      border: none;\n",
       "      border-radius: 50%;\n",
       "      cursor: pointer;\n",
       "      display: none;\n",
       "      fill: #1967D2;\n",
       "      height: 32px;\n",
       "      padding: 0 0 0 0;\n",
       "      width: 32px;\n",
       "    }\n",
       "\n",
       "    .colab-df-convert:hover {\n",
       "      background-color: #E2EBFA;\n",
       "      box-shadow: 0px 1px 2px rgba(60, 64, 67, 0.3), 0px 1px 3px 1px rgba(60, 64, 67, 0.15);\n",
       "      fill: #174EA6;\n",
       "    }\n",
       "\n",
       "    .colab-df-buttons div {\n",
       "      margin-bottom: 4px;\n",
       "    }\n",
       "\n",
       "    [theme=dark] .colab-df-convert {\n",
       "      background-color: #3B4455;\n",
       "      fill: #D2E3FC;\n",
       "    }\n",
       "\n",
       "    [theme=dark] .colab-df-convert:hover {\n",
       "      background-color: #434B5C;\n",
       "      box-shadow: 0px 1px 3px 1px rgba(0, 0, 0, 0.15);\n",
       "      filter: drop-shadow(0px 1px 2px rgba(0, 0, 0, 0.3));\n",
       "      fill: #FFFFFF;\n",
       "    }\n",
       "  </style>\n",
       "\n",
       "    <script>\n",
       "      const buttonEl =\n",
       "        document.querySelector('#df-2c797c40-8afa-49d3-b76a-cbeb935d5c05 button.colab-df-convert');\n",
       "      buttonEl.style.display =\n",
       "        google.colab.kernel.accessAllowed ? 'block' : 'none';\n",
       "\n",
       "      async function convertToInteractive(key) {\n",
       "        const element = document.querySelector('#df-2c797c40-8afa-49d3-b76a-cbeb935d5c05');\n",
       "        const dataTable =\n",
       "          await google.colab.kernel.invokeFunction('convertToInteractive',\n",
       "                                                    [key], {});\n",
       "        if (!dataTable) return;\n",
       "\n",
       "        const docLinkHtml = 'Like what you see? Visit the ' +\n",
       "          '<a target=\"_blank\" href=https://colab.research.google.com/notebooks/data_table.ipynb>data table notebook</a>'\n",
       "          + ' to learn more about interactive tables.';\n",
       "        element.innerHTML = '';\n",
       "        dataTable['output_type'] = 'display_data';\n",
       "        await google.colab.output.renderOutput(dataTable, element);\n",
       "        const docLink = document.createElement('div');\n",
       "        docLink.innerHTML = docLinkHtml;\n",
       "        element.appendChild(docLink);\n",
       "      }\n",
       "    </script>\n",
       "  </div>\n",
       "\n",
       "\n",
       "<div id=\"df-147e4bbc-7b17-4c5e-80f4-f74d5bc982f2\">\n",
       "  <button class=\"colab-df-quickchart\" onclick=\"quickchart('df-147e4bbc-7b17-4c5e-80f4-f74d5bc982f2')\"\n",
       "            title=\"Suggest charts\"\n",
       "            style=\"display:none;\">\n",
       "\n",
       "<svg xmlns=\"http://www.w3.org/2000/svg\" height=\"24px\"viewBox=\"0 0 24 24\"\n",
       "     width=\"24px\">\n",
       "    <g>\n",
       "        <path d=\"M19 3H5c-1.1 0-2 .9-2 2v14c0 1.1.9 2 2 2h14c1.1 0 2-.9 2-2V5c0-1.1-.9-2-2-2zM9 17H7v-7h2v7zm4 0h-2V7h2v10zm4 0h-2v-4h2v4z\"/>\n",
       "    </g>\n",
       "</svg>\n",
       "  </button>\n",
       "\n",
       "<style>\n",
       "  .colab-df-quickchart {\n",
       "      --bg-color: #E8F0FE;\n",
       "      --fill-color: #1967D2;\n",
       "      --hover-bg-color: #E2EBFA;\n",
       "      --hover-fill-color: #174EA6;\n",
       "      --disabled-fill-color: #AAA;\n",
       "      --disabled-bg-color: #DDD;\n",
       "  }\n",
       "\n",
       "  [theme=dark] .colab-df-quickchart {\n",
       "      --bg-color: #3B4455;\n",
       "      --fill-color: #D2E3FC;\n",
       "      --hover-bg-color: #434B5C;\n",
       "      --hover-fill-color: #FFFFFF;\n",
       "      --disabled-bg-color: #3B4455;\n",
       "      --disabled-fill-color: #666;\n",
       "  }\n",
       "\n",
       "  .colab-df-quickchart {\n",
       "    background-color: var(--bg-color);\n",
       "    border: none;\n",
       "    border-radius: 50%;\n",
       "    cursor: pointer;\n",
       "    display: none;\n",
       "    fill: var(--fill-color);\n",
       "    height: 32px;\n",
       "    padding: 0;\n",
       "    width: 32px;\n",
       "  }\n",
       "\n",
       "  .colab-df-quickchart:hover {\n",
       "    background-color: var(--hover-bg-color);\n",
       "    box-shadow: 0 1px 2px rgba(60, 64, 67, 0.3), 0 1px 3px 1px rgba(60, 64, 67, 0.15);\n",
       "    fill: var(--button-hover-fill-color);\n",
       "  }\n",
       "\n",
       "  .colab-df-quickchart-complete:disabled,\n",
       "  .colab-df-quickchart-complete:disabled:hover {\n",
       "    background-color: var(--disabled-bg-color);\n",
       "    fill: var(--disabled-fill-color);\n",
       "    box-shadow: none;\n",
       "  }\n",
       "\n",
       "  .colab-df-spinner {\n",
       "    border: 2px solid var(--fill-color);\n",
       "    border-color: transparent;\n",
       "    border-bottom-color: var(--fill-color);\n",
       "    animation:\n",
       "      spin 1s steps(1) infinite;\n",
       "  }\n",
       "\n",
       "  @keyframes spin {\n",
       "    0% {\n",
       "      border-color: transparent;\n",
       "      border-bottom-color: var(--fill-color);\n",
       "      border-left-color: var(--fill-color);\n",
       "    }\n",
       "    20% {\n",
       "      border-color: transparent;\n",
       "      border-left-color: var(--fill-color);\n",
       "      border-top-color: var(--fill-color);\n",
       "    }\n",
       "    30% {\n",
       "      border-color: transparent;\n",
       "      border-left-color: var(--fill-color);\n",
       "      border-top-color: var(--fill-color);\n",
       "      border-right-color: var(--fill-color);\n",
       "    }\n",
       "    40% {\n",
       "      border-color: transparent;\n",
       "      border-right-color: var(--fill-color);\n",
       "      border-top-color: var(--fill-color);\n",
       "    }\n",
       "    60% {\n",
       "      border-color: transparent;\n",
       "      border-right-color: var(--fill-color);\n",
       "    }\n",
       "    80% {\n",
       "      border-color: transparent;\n",
       "      border-right-color: var(--fill-color);\n",
       "      border-bottom-color: var(--fill-color);\n",
       "    }\n",
       "    90% {\n",
       "      border-color: transparent;\n",
       "      border-bottom-color: var(--fill-color);\n",
       "    }\n",
       "  }\n",
       "</style>\n",
       "\n",
       "  <script>\n",
       "    async function quickchart(key) {\n",
       "      const quickchartButtonEl =\n",
       "        document.querySelector('#' + key + ' button');\n",
       "      quickchartButtonEl.disabled = true;  // To prevent multiple clicks.\n",
       "      quickchartButtonEl.classList.add('colab-df-spinner');\n",
       "      try {\n",
       "        const charts = await google.colab.kernel.invokeFunction(\n",
       "            'suggestCharts', [key], {});\n",
       "      } catch (error) {\n",
       "        console.error('Error during call to suggestCharts:', error);\n",
       "      }\n",
       "      quickchartButtonEl.classList.remove('colab-df-spinner');\n",
       "      quickchartButtonEl.classList.add('colab-df-quickchart-complete');\n",
       "    }\n",
       "    (() => {\n",
       "      let quickchartButtonEl =\n",
       "        document.querySelector('#df-147e4bbc-7b17-4c5e-80f4-f74d5bc982f2 button');\n",
       "      quickchartButtonEl.style.display =\n",
       "        google.colab.kernel.accessAllowed ? 'block' : 'none';\n",
       "    })();\n",
       "  </script>\n",
       "</div>\n",
       "\n",
       "  <div id=\"id_cc1c6d42-dd40-4489-b6a8-d671ce3b0a37\">\n",
       "    <style>\n",
       "      .colab-df-generate {\n",
       "        background-color: #E8F0FE;\n",
       "        border: none;\n",
       "        border-radius: 50%;\n",
       "        cursor: pointer;\n",
       "        display: none;\n",
       "        fill: #1967D2;\n",
       "        height: 32px;\n",
       "        padding: 0 0 0 0;\n",
       "        width: 32px;\n",
       "      }\n",
       "\n",
       "      .colab-df-generate:hover {\n",
       "        background-color: #E2EBFA;\n",
       "        box-shadow: 0px 1px 2px rgba(60, 64, 67, 0.3), 0px 1px 3px 1px rgba(60, 64, 67, 0.15);\n",
       "        fill: #174EA6;\n",
       "      }\n",
       "\n",
       "      [theme=dark] .colab-df-generate {\n",
       "        background-color: #3B4455;\n",
       "        fill: #D2E3FC;\n",
       "      }\n",
       "\n",
       "      [theme=dark] .colab-df-generate:hover {\n",
       "        background-color: #434B5C;\n",
       "        box-shadow: 0px 1px 3px 1px rgba(0, 0, 0, 0.15);\n",
       "        filter: drop-shadow(0px 1px 2px rgba(0, 0, 0, 0.3));\n",
       "        fill: #FFFFFF;\n",
       "      }\n",
       "    </style>\n",
       "    <button class=\"colab-df-generate\" onclick=\"generateWithVariable('df_stats')\"\n",
       "            title=\"Generate code using this dataframe.\"\n",
       "            style=\"display:none;\">\n",
       "\n",
       "  <svg xmlns=\"http://www.w3.org/2000/svg\" height=\"24px\"viewBox=\"0 0 24 24\"\n",
       "       width=\"24px\">\n",
       "    <path d=\"M7,19H8.4L18.45,9,17,7.55,7,17.6ZM5,21V16.75L18.45,3.32a2,2,0,0,1,2.83,0l1.4,1.43a1.91,1.91,0,0,1,.58,1.4,1.91,1.91,0,0,1-.58,1.4L9.25,21ZM18.45,9,17,7.55Zm-12,3A5.31,5.31,0,0,0,4.9,8.1,5.31,5.31,0,0,0,1,6.5,5.31,5.31,0,0,0,4.9,4.9,5.31,5.31,0,0,0,6.5,1,5.31,5.31,0,0,0,8.1,4.9,5.31,5.31,0,0,0,12,6.5,5.46,5.46,0,0,0,6.5,12Z\"/>\n",
       "  </svg>\n",
       "    </button>\n",
       "    <script>\n",
       "      (() => {\n",
       "      const buttonEl =\n",
       "        document.querySelector('#id_cc1c6d42-dd40-4489-b6a8-d671ce3b0a37 button.colab-df-generate');\n",
       "      buttonEl.style.display =\n",
       "        google.colab.kernel.accessAllowed ? 'block' : 'none';\n",
       "\n",
       "      buttonEl.onclick = () => {\n",
       "        google.colab.notebook.generateWithVariable('df_stats');\n",
       "      }\n",
       "      })();\n",
       "    </script>\n",
       "  </div>\n",
       "\n",
       "    </div>\n",
       "  </div>\n"
      ],
      "text/plain": [
       "       Training Loss  Valid. Loss  Valid. F1. Training Time Validation Time\n",
       "epoch                                                                      \n",
       "1           0.508869     0.481577    0.843583       0:00:26         0:00:01\n",
       "2           0.450530     0.466904    0.845863       0:00:24         0:00:01\n",
       "3           0.413204     0.474109    0.849502       0:00:24         0:00:01\n",
       "4           0.388636     0.475007    0.849970       0:00:24         0:00:01"
      ]
     },
     "metadata": {},
     "output_type": "display_data"
    }
   ],
   "source": [
    "# Display floats with two decimal places.\n",
    "pd.set_option(\"display.max_columns\", 100)\n",
    "\n",
    "# Create a DataFrame from our training statistics.\n",
    "df_stats = pd.DataFrame(data=training_stats)\n",
    "\n",
    "# Use the 'epoch' as the row index.\n",
    "df_stats = df_stats.set_index('epoch')\n",
    "\n",
    "# Display the table.\n",
    "df_stats"
   ]
  },
  {
   "cell_type": "markdown",
   "metadata": {},
   "source": [
    "Обратите внимание, что loss на обучении непрерывно падает, а на валидации начинает возрастать. Это говорит о том, что модель переобучается.\n",
    "\n",
    "Loss на валидации - более надежный способ, чем F1, так как F1 не зависит от типа ошибки и уверенности классификатора в ответе.\n"
   ]
  },
  {
   "cell_type": "code",
   "execution_count": null,
   "metadata": {},
   "outputs": [
    {
     "data": {
      "image/png": "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",
      "text/plain": [
       "<Figure size 1200x600 with 1 Axes>"
      ]
     },
     "metadata": {},
     "output_type": "display_data"
    }
   ],
   "source": [
    "# Use plot styling from seaborn.\n",
    "sns.set(style='darkgrid')\n",
    "\n",
    "# Increase the plot size and font size.\n",
    "sns.set(font_scale=1.5)\n",
    "plt.rcParams[\"figure.figsize\"] = (12,6)\n",
    "\n",
    "# Plot the learning curve.\n",
    "plt.plot(df_stats['Training Loss'], 'b-o', label=\"Training\")\n",
    "plt.plot(df_stats['Valid. Loss'], 'g-o', label=\"Validation\")\n",
    "\n",
    "# Label the plot.\n",
    "plt.title(\"Training & Validation Loss\")\n",
    "plt.xlabel(\"Epoch\")\n",
    "plt.ylabel(\"Loss\")\n",
    "plt.legend()\n",
    "plt.xticks([1, 2, 3, 4])\n",
    "\n",
    "plt.show()"
   ]
  },
  {
   "cell_type": "markdown",
   "metadata": {},
   "source": [
    "# 5. Performance On Test Set"
   ]
  },
  {
   "cell_type": "markdown",
   "metadata": {},
   "source": [
    "Качество на отложенной выборке. Для оценки качества зафайнтьюненой модели оценим качество на тесте с использованием F1_score."
   ]
  },
  {
   "cell_type": "markdown",
   "metadata": {},
   "source": [
    "### 5.1. Подготовка данных\n"
   ]
  },
  {
   "cell_type": "markdown",
   "metadata": {},
   "source": [
    "\n",
    "Применим к тестовым данным те же шаги предобработки данных, которые мы применяли для обучающей и валидационной выборкок."
   ]
  },
  {
   "cell_type": "code",
   "execution_count": null,
   "metadata": {},
   "outputs": [],
   "source": [
    "df = pd.read_csv('data/test_data.csv')"
   ]
  },
  {
   "cell_type": "code",
   "execution_count": null,
   "metadata": {},
   "outputs": [
    {
     "name": "stdout",
     "output_type": "stream",
     "text": [
      "Number of test sentences: 6,533\n",
      "\n"
     ]
    }
   ],
   "source": [
    "# Report the number of sentences.\n",
    "print('Number of test sentences: {:,}\\n'.format(df.shape[0]))"
   ]
  },
  {
   "cell_type": "code",
   "execution_count": null,
   "metadata": {},
   "outputs": [],
   "source": [
    "# Create sentence and label lists\n",
    "texts = df.text.astype(str).values\n",
    "labels = df.relevant.values"
   ]
  },
  {
   "cell_type": "code",
   "execution_count": null,
   "metadata": {},
   "outputs": [
    {
     "data": {
      "text/plain": [
       "array(['\\n не шути так больше про еду😹 Еда правда бомба!',\n",
       "       '  не проходит ни дня, когда я ее не повторил хотя бы про себя 🤣'],\n",
       "      dtype=object)"
      ]
     },
     "metadata": {},
     "output_type": "display_data"
    }
   ],
   "source": [
    "texts[:2]"
   ]
  },
  {
   "cell_type": "code",
   "execution_count": null,
   "metadata": {},
   "outputs": [
    {
     "data": {
      "text/plain": [
       "array([0, 0, 1, ..., 1, 0, 0])"
      ]
     },
     "metadata": {},
     "output_type": "display_data"
    }
   ],
   "source": [
    "labels"
   ]
  },
  {
   "cell_type": "code",
   "execution_count": null,
   "metadata": {},
   "outputs": [],
   "source": [
    "# Tokenize all of the texts and map the tokens to thier word IDs.\n",
    "input_ids, attention_masks, labels = preparing_text_and_labels(texts, labels, max_length, truncation=True) #Truncation for evoiding long cases\n"
   ]
  },
  {
   "cell_type": "code",
   "execution_count": null,
   "metadata": {},
   "outputs": [],
   "source": [
    "# Create the DataLoader.\n",
    "prediction_data = TensorDataset(input_ids, attention_masks, labels)\n",
    "prediction_sampler = SequentialSampler(prediction_data)\n",
    "prediction_dataloader = DataLoader(prediction_data, sampler=prediction_sampler, batch_size=batch_size)"
   ]
  },
  {
   "cell_type": "markdown",
   "metadata": {},
   "source": [
    "## 5.2. Оценка на тесте\n"
   ]
  },
  {
   "cell_type": "markdown",
   "metadata": {},
   "source": [
    "\n",
    "После того, как мы подготовили тестовые данные, сгенерируем предсказания с использованием дообученной модели."
   ]
  },
  {
   "cell_type": "code",
   "execution_count": null,
   "metadata": {},
   "outputs": [],
   "source": [
    "# Prediction on test set\n",
    "def get_predictions(model, prediction_dataloader):\n",
    "  print('Predicting labels for {:,} test texts...'.format(len(input_ids)))\n",
    "  # Put model in evaluation mode\n",
    "  model.eval()\n",
    "\n",
    "  # Tracking variables\n",
    "  predictions , true_labels = [], []\n",
    "\n",
    "  # Predict\n",
    "  for batch in prediction_dataloader:\n",
    "    # Add batch to GPU\n",
    "    batch = tuple(t.to(device) for t in batch)\n",
    "\n",
    "    # Unpack the inputs from our dataloader\n",
    "    b_input_ids, b_input_mask, b_labels = batch\n",
    "\n",
    "    with torch.no_grad():\n",
    "        # Forward pass, calculate logit predictions\n",
    "        outputs = model(b_input_ids, token_type_ids=None,\n",
    "                        attention_mask=b_input_mask)\n",
    "\n",
    "    logits = outputs[0]\n",
    "\n",
    "    # Move logits and labels to CPU\n",
    "    logits = logits.detach().cpu().numpy()\n",
    "    label_ids = b_labels.to('cpu').numpy()\n",
    "\n",
    "    # Store predictions and true labels\n",
    "    predictions.append(logits)\n",
    "    true_labels.append(label_ids)\n",
    "\n",
    "  print()\n",
    "  print('DONE.')\n",
    "  return predictions, true_labels"
   ]
  },
  {
   "cell_type": "code",
   "execution_count": null,
   "metadata": {},
   "outputs": [
    {
     "name": "stdout",
     "output_type": "stream",
     "text": [
      "Predicting labels for 6,533 test texts...\n",
      "\n",
      "DONE.\n"
     ]
    }
   ],
   "source": [
    "predictions, true_labels = get_predictions(model, prediction_dataloader)"
   ]
  },
  {
   "cell_type": "markdown",
   "metadata": {},
   "source": [
    "В качестве метрики возьмем F1.\n",
   ]
  },
  {
   "cell_type": "code",
   "execution_count": null,
   "metadata": {},
   "outputs": [
    {
     "name": "stdout",
     "output_type": "stream",
     "text": [
      "Positive samples: 4667 of 6533 (71.44%)\n"
     ]
    }
   ],
   "source": [
    "print('Positive samples: %d of %d (%.2f%%)' % (df.relevant.sum(), len(df.relevant), (df.relevant.sum() / len(df.relevant) * 100.0)))"
   ]
  },
  {
   "cell_type": "code",
   "execution_count": null,
   "metadata": {},
   "outputs": [
    {
     "name": "stdout",
     "output_type": "stream",
     "text": [
      "Calculating F1 Score for each batch...\n"
     ]
    }
   ],
   "source": [
    "f1_set = []\n",
    "\n",
    "# Evaluate each test batch using Matthew's correlation coefficient\n",
    "print('Calculating F1 Score for each batch...')\n",
    "\n",
    "# For each input batch...\n",
    "for i in range(len(true_labels)):\n",
    "\n",
    "  pred_labels_i = np.argmax(predictions[i], axis=1).flatten()\n",
    "\n",
    "  # Calculate and store the coef for this batch.\n",
    "  f1 = f1_score(true_labels[i], pred_labels_i)\n",
    "  f1_set.append(f1)"
   ]
  },
  {
   "cell_type": "markdown",
   "metadata": {},
   "source": [
    "Финальный скор считается по всему датасету, дополнительно посмотрим на скоры на отдельных батчах.\n"
   ]
  },
  {
   "cell_type": "code",
   "execution_count": null,
   "metadata": {},
   "outputs": [
    {
     "name": "stderr",
     "output_type": "stream",
     "text": [
      "<ipython-input-187-55e1965e1330>:2: FutureWarning: \n",
      "\n",
      "The `ci` parameter is deprecated. Use `errorbar=None` for the same effect.\n",
      "\n",
      "  ax = sns.barplot(x=list(range(len(f1_set))), y=f1_set, ci=None)\n"
     ]
    },
    {
     "data": {
      "image/png": "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",
      "text/plain": [
       "<Figure size 1200x600 with 1 Axes>"
      ]
     },
     "metadata": {},
     "output_type": "display_data"
    }
   ],
   "source": [
    "# Create a barplot showing the F1 score for each batch of test samples.\n",
    "ax = sns.barplot(x=list(range(len(f1_set))), y=f1_set, ci=None)\n",
    "\n",
    "plt.title('F1 Score per Batch')\n",
    "plt.ylabel('F1')\n",
    "plt.xlabel('Batches')\n",
    "\n",
    "plt.show()"
   ]
  },
  {
   "cell_type": "markdown",
   "metadata": {},
   "source": [
    "Объединим результаты и получим общий скор."
   ]
  },
  {
   "cell_type": "code",
   "execution_count": null,
   "metadata": {},
   "outputs": [
    {
     "name": "stdout",
     "output_type": "stream",
     "text": [
      "Total Accuracy: 0.788\n",
      "Total Precision: 0.818\n",
      "Total Recall: 0.905\n",
      "Total F1: 0.859\n"
     ]
    }
   ],
   "source": [
    "# Combine the results across all batches.\n",
    "flat_predictions = np.concatenate(predictions, axis=0)\n",
    "\n",
    "# For each sample, pick the label (0 or 1) with the higher score.\n",
    "flat_predictions = np.argmax(flat_predictions, axis=1).flatten()\n",
    "\n",
    "# Combine the correct labels for each batch into a single list.\n",
    "flat_true_labels = np.concatenate(true_labels, axis=0)\n",
    "\n",
    "# Calculate the F1\n",
    "f1 = f1_score(flat_true_labels, flat_predictions)\n",
    "accuracy = accuracy_score(flat_true_labels, flat_predictions)\n",
    "precision = precision_score(flat_true_labels, flat_predictions)\n",
    "recall = recall_score(flat_true_labels, flat_predictions)\n",
    "\n",
    "\n",
    "print('Total Accuracy: %.3f' % accuracy)\n",
    "print('Total Precision: %.3f' % precision)\n",
    "print('Total Recall: %.3f' % recall)\n",
    "print('Total F1: %.3f' % f1)"
   ]
  },
  {
   "cell_type": "markdown",
   "metadata": {},
   "source": [
    "\n",
    "\n",
    "```\n",
    "# Выбран кодовый формат\n",
    "```\n",
    "\n",
    "**Успех!** Спустя небольшое количество времени мы получили хорошую модель с качеством выше чем у моделей, обученных с нуля.\n",
    "\n"
   ]
  },
  {
   "cell_type": "markdown",
   "metadata": {},
   "source": [
    "# Заключение"
   ]
  },
  {
   "cell_type": "markdown",
   "metadata": {},
   "source": [
    "Используя предобученную сеть cointegrated/rubert-tiny2 с помощью простого файн тюнинга удается добиться лучшего качества среди всех моделей. А также модель довольно быстро обучается, что позволит в дальнейшем только улучшать её."
   ]
  },
  {
   "cell_type": "markdown",
   "metadata": {},
   "source": [
    "##  Сохранение модели\n",
    "\n",
    "Код ниже позволяет сохранить дообученную модель и соотвествующий ей токенайзер на диск.\n",
    "\n",
    "Так как код выполнялся на GPU Google Colab."
   ]
  },
  {
   "cell_type": "code",
   "execution_count": null,
   "metadata": {},
   "outputs": [
    {
     "name": "stdout",
     "output_type": "stream",
     "text": [
      "Saving model to ./model_save/\n"
     ]
    },
    {
     "data": {
      "text/plain": [
       "('./model_save/tokenizer_config.json',\n",
       " './model_save/special_tokens_map.json',\n",
       " './model_save/vocab.txt',\n",
       " './model_save/added_tokens.json')"
      ]
     },
     "metadata": {},
     "output_type": "display_data"
    }
   ],
   "source": [
    "output_dir = './model_save/'\n",
    "\n",
    "# Create output directory if needed\n",
    "if not os.path.exists(output_dir):\n",
    "    os.makedirs(output_dir)\n",
    "\n",
    "print(\"Saving model to %s\" % output_dir)\n",
    "\n",
    "# Save a trained model, configuration and tokenizer using `save_pretrained()`.\n",
    "# They can then be reloaded using `from_pretrained()`\n",
    "model_to_save = model.module if hasattr(model, 'module') else model\n",
    "model_to_save.save_pretrained(output_dir)\n",
    "tokenizer.save_pretrained(output_dir)\n",
    "\n",
    "# Good practice: save your training arguments together with the trained model\n",
    "# torch.save(args, os.path.join(output_dir, 'training_args.bin'))\n"
   ]
  },
  {
   "cell_type": "markdown",
   "metadata": {},
   "source": [
    "Посмотрим размеры файлов."
   ]
  },
  {
   "cell_type": "code",
   "execution_count": null,
   "metadata": {},
   "outputs": [
    {
     "name": "stdout",
     "output_type": "stream",
     "text": [
      "total 115116K\n",
      "-rw-r--r-- 1 root root      1K Aug 31 04:30 config.json\n",
      "-rw-r--r-- 1 root root 114048K Aug 31 04:30 model.safetensors\n",
      "-rw-r--r-- 1 root root      1K Aug 31 04:30 special_tokens_map.json\n",
      "-rw-r--r-- 1 root root      2K Aug 31 04:30 tokenizer_config.json\n",
      "-rw-r--r-- 1 root root   1056K Aug 31 04:30 vocab.txt\n"
     ]
    }
   ],
   "source": [
    "!ls -l --block-size=K ./model_save/"
   ]
  },
  {
   "cell_type": "code",
   "execution_count": null,
   "metadata": {},
   "outputs": [
    {
     "name": "stdout",
     "output_type": "stream",
     "text": [
      "-rw-r--r-- 1 root root 112M Aug 31 04:30 ./model_save/model.safetensors\n"
     ]
    }
   ],
   "source": [
    "!ls -l --block-size=M ./model_save/model.safetensors"
   ]
  },
  {
   "cell_type": "markdown",
   "metadata": {},
   "source": [
    "Файл весит всего 112 мб"
   ]
  },
  {
   "cell_type": "markdown",
   "metadata": {},
   "source": [
    "Код ниже позволяет сохранить модель из колаба на Google Disk."
   ]
  },
  {
   "cell_type": "code",
   "execution_count": null,
   "metadata": {},
   "outputs": [
    {
     "name": "stdout",
     "output_type": "stream",
     "text": [
      "Mounted at /content/drive\n"
     ]
    }
   ],
   "source": [
    "# Mount Google Drive to this Notebook instance.\n",
    "from google.colab import drive\n",
    "drive.mount('/content/drive')"
   ]
  },
  {
   "cell_type": "code",
   "execution_count": null,
   "metadata": {},
   "outputs": [
    {
     "name": "stdout",
     "output_type": "stream",
     "text": [
      "cp: cannot create directory './drive/myfile_andreykasha': Operation not supported\n"
     ]
    }
   ],
   "source": [
    "# Copy the model files to a directory in your Google Drive.\n",
    "!cp -r ./model_save/ \"./drive/myfile_andreykasha\""
   ]
  },
  {
   "cell_type": "markdown",
   "metadata": {},
   "source": [
    "Код ниже позволяет загрузить сохраненную модель."
   ]
  },
  {
   "cell_type": "code",
   "execution_count": null,
   "metadata": {},
   "outputs": [
    {
     "data": {
      "text/plain": [
       "BertForSequenceClassification(\n",
       "  (bert): BertModel(\n",
       "    (embeddings): BertEmbeddings(\n",
       "      (word_embeddings): Embedding(83828, 312, padding_idx=0)\n",
       "      (position_embeddings): Embedding(2048, 312)\n",
       "      (token_type_embeddings): Embedding(2, 312)\n",
       "      (LayerNorm): LayerNorm((312,), eps=1e-12, elementwise_affine=True)\n",
       "      (dropout): Dropout(p=0.1, inplace=False)\n",
       "    )\n",
       "    (encoder): BertEncoder(\n",
       "      (layer): ModuleList(\n",
       "        (0-2): 3 x BertLayer(\n",
       "          (attention): BertAttention(\n",
       "            (self): BertSdpaSelfAttention(\n",
       "              (query): Linear(in_features=312, out_features=312, bias=True)\n",
       "              (key): Linear(in_features=312, out_features=312, bias=True)\n",
       "              (value): Linear(in_features=312, out_features=312, bias=True)\n",
       "              (dropout): Dropout(p=0.1, inplace=False)\n",
       "            )\n",
       "            (output): BertSelfOutput(\n",
       "              (dense): Linear(in_features=312, out_features=312, bias=True)\n",
       "              (LayerNorm): LayerNorm((312,), eps=1e-12, elementwise_affine=True)\n",
       "              (dropout): Dropout(p=0.1, inplace=False)\n",
       "            )\n",
       "          )\n",
       "          (intermediate): BertIntermediate(\n",
       "            (dense): Linear(in_features=312, out_features=600, bias=True)\n",
       "            (intermediate_act_fn): GELUActivation()\n",
       "          )\n",
       "          (output): BertOutput(\n",
       "            (dense): Linear(in_features=600, out_features=312, bias=True)\n",
       "            (LayerNorm): LayerNorm((312,), eps=1e-12, elementwise_affine=True)\n",
       "            (dropout): Dropout(p=0.1, inplace=False)\n",
       "          )\n",
       "        )\n",
       "      )\n",
       "    )\n",
       "    (pooler): BertPooler(\n",
       "      (dense): Linear(in_features=312, out_features=312, bias=True)\n",
       "      (activation): Tanh()\n",
       "    )\n",
       "  )\n",
       "  (dropout): Dropout(p=0.1, inplace=False)\n",
       "  (classifier): Linear(in_features=312, out_features=2, bias=True)\n",
       ")"
      ]
     },
     "metadata": {},
     "output_type": "display_data"
    }
   ],
   "source": [
    "# Load a trained model and vocabulary that you have fine-tuned\n",
    "model = BertForSequenceClassification.from_pretrained(output_dir)\n",
    "tokenizer = BertTokenizer.from_pretrained(output_dir)\n",
    "\n",
    "# Copy the model to the GPU.\n",
    "device = torch.device('cuda' if torch.cuda.is_available() else 'cpu')\n",
    "model.to(device)\n"
   ]
  }
 ],
 "metadata": {
  "kernelspec": {
   "display_name": "venv",
   "language": "python",
   "name": "python3"
  },
  "language_info": {
   "codemirror_mode": {
    "name": "ipython",
    "version": 3
   },
   "file_extension": ".py",
   "mimetype": "text/x-python",
   "name": "python",
   "nbconvert_exporter": "python",
   "pygments_lexer": "ipython3",
   "version": "3.9.8"
  }
 },
 "nbformat": 4,
 "nbformat_minor": 2
}
